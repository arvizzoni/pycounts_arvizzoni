{
 "cells": [
  {
   "cell_type": "code",
   "execution_count": null,
   "metadata": {},
   "outputs": [],
   "source": [
    "from pycounts.pycounts import count_words\n",
    "count_words(\"zen.txt\")"
   ]
  }
 ],
 "metadata": {
  "kernelspec": {
   "display_name": "pacote_pycounts",
   "language": "python",
   "name": "python3"
  },
  "language_info": {
   "name": "python",
   "version": "3.11.7"
  }
 },
 "nbformat": 4,
 "nbformat_minor": 2
}
